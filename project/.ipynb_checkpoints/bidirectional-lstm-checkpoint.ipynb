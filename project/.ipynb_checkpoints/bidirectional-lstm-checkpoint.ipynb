{
 "cells": [
  {
   "cell_type": "markdown",
   "metadata": {},
   "source": [
    "## Dataset Link\n",
    "\n",
    "https://www.kaggle.com/competitions/tabular-playground-series-apr-2022/data"
   ]
  },
  {
   "cell_type": "code",
   "execution_count": 30,
   "metadata": {
    "_cell_guid": "b1076dfc-b9ad-4769-8c92-a6c4dae69d19",
    "_uuid": "8f2839f25d086af736a60e9eeb907d3b93b6e0e5",
    "execution": {
     "iopub.execute_input": "2022-04-17T18:28:34.734358Z",
     "iopub.status.busy": "2022-04-17T18:28:34.733744Z",
     "iopub.status.idle": "2022-04-17T18:28:34.768343Z",
     "shell.execute_reply": "2022-04-17T18:28:34.767576Z",
     "shell.execute_reply.started": "2022-04-17T18:28:34.73426Z"
    }
   },
   "outputs": [],
   "source": [
    "import numpy as np\n",
    "import pandas as pd "
   ]
  },
  {
   "cell_type": "markdown",
   "metadata": {},
   "source": [
    "# Import the data"
   ]
  },
  {
   "cell_type": "code",
   "execution_count": 31,
   "metadata": {
    "execution": {
     "iopub.execute_input": "2022-04-17T18:28:35.02295Z",
     "iopub.status.busy": "2022-04-17T18:28:35.022615Z",
     "iopub.status.idle": "2022-04-17T18:28:45.239841Z",
     "shell.execute_reply": "2022-04-17T18:28:45.239083Z",
     "shell.execute_reply.started": "2022-04-17T18:28:35.022907Z"
    }
   },
   "outputs": [],
   "source": [
    "train = pd.read_csv(\"C:/My TA Resources/ML SP22/LSTM/train.csv\")\n",
    "test = pd.read_csv(\"C:/My TA Resources/ML SP22/LSTM/test.csv\")\n",
    "labels = pd.read_csv(\"C:/My TA Resources/ML SP22/LSTM/train_labels.csv\")"
   ]
  },
  {
   "cell_type": "code",
   "execution_count": 32,
   "metadata": {
    "execution": {
     "iopub.execute_input": "2022-04-17T18:28:45.42173Z",
     "iopub.status.busy": "2022-04-17T18:28:45.421443Z",
     "iopub.status.idle": "2022-04-17T18:28:45.428558Z",
     "shell.execute_reply": "2022-04-17T18:28:45.427659Z",
     "shell.execute_reply.started": "2022-04-17T18:28:45.421696Z"
    }
   },
   "outputs": [
    {
     "data": {
      "text/plain": [
       "1    13014\n",
       "0    12954\n",
       "Name: state, dtype: int64"
      ]
     },
     "execution_count": 32,
     "metadata": {},
     "output_type": "execute_result"
    }
   ],
   "source": [
    "labels['state'].value_counts()"
   ]
  },
  {
   "cell_type": "markdown",
   "metadata": {
    "execution": {
     "iopub.execute_input": "2022-04-17T16:05:20.773969Z",
     "iopub.status.busy": "2022-04-17T16:05:20.773566Z",
     "iopub.status.idle": "2022-04-17T16:05:20.790048Z",
     "shell.execute_reply": "2022-04-17T16:05:20.789427Z",
     "shell.execute_reply.started": "2022-04-17T16:05:20.773939Z"
    }
   },
   "source": [
    "# import libraries"
   ]
  },
  {
   "cell_type": "code",
   "execution_count": 33,
   "metadata": {
    "execution": {
     "iopub.execute_input": "2022-04-17T18:28:45.430335Z",
     "iopub.status.busy": "2022-04-17T18:28:45.430051Z",
     "iopub.status.idle": "2022-04-17T18:28:51.10751Z",
     "shell.execute_reply": "2022-04-17T18:28:51.104519Z",
     "shell.execute_reply.started": "2022-04-17T18:28:45.430299Z"
    }
   },
   "outputs": [],
   "source": [
    "import numpy as np\n",
    "import pandas as pd\n",
    "import matplotlib.pyplot as plt\n",
    "import seaborn as sns\n",
    "\n",
    "import warnings\n",
    "warnings.filterwarnings(\"ignore\")\n",
    "\n",
    "import tensorflow as tf\n",
    "from tensorflow.keras.callbacks import EarlyStopping, ReduceLROnPlateau\n",
    "from tensorflow.keras.utils import plot_model\n",
    "from tensorflow.keras.models import Model, load_model\n",
    "from tensorflow.keras.layers import GlobalMaxPooling1D\n",
    "from tensorflow.keras.layers import BatchNormalization\n",
    "from tensorflow.keras.layers import Dense, Dropout, Input\n",
    "from tensorflow.keras.layers import Concatenate, LSTM, GRU\n",
    "from tensorflow.keras.layers import Bidirectional, Multiply\n",
    "from tensorflow.keras.metrics import AUC\n",
    "from tensorflow.keras.utils import plot_model\n",
    "\n",
    "from sklearn.metrics import roc_auc_score\n",
    "from sklearn.preprocessing import StandardScaler, MinMaxScaler\n",
    "from sklearn.model_selection import GroupKFold\n"
   ]
  },
  {
   "cell_type": "code",
   "execution_count": 34,
   "metadata": {
    "execution": {
     "iopub.execute_input": "2022-04-17T18:28:51.111859Z",
     "iopub.status.busy": "2022-04-17T18:28:51.111642Z",
     "iopub.status.idle": "2022-04-17T18:28:51.127384Z",
     "shell.execute_reply": "2022-04-17T18:28:51.126711Z",
     "shell.execute_reply.started": "2022-04-17T18:28:51.111834Z"
    }
   },
   "outputs": [],
   "source": [
    "data=train.loc[1].reset_index()"
   ]
  },
  {
   "cell_type": "code",
   "execution_count": 35,
   "metadata": {
    "execution": {
     "iopub.execute_input": "2022-04-17T18:28:51.156414Z",
     "iopub.status.busy": "2022-04-17T18:28:51.15589Z",
     "iopub.status.idle": "2022-04-17T18:28:51.164423Z",
     "shell.execute_reply": "2022-04-17T18:28:51.162969Z",
     "shell.execute_reply.started": "2022-04-17T18:28:51.156372Z"
    }
   },
   "outputs": [],
   "source": [
    "features = train.columns.tolist()[3:]\n"
   ]
  },
  {
   "cell_type": "markdown",
   "metadata": {},
   "source": [
    "## Data Processing, Feature Extraction"
   ]
  },
  {
   "cell_type": "code",
   "execution_count": 36,
   "metadata": {
    "execution": {
     "iopub.execute_input": "2022-04-17T18:28:51.189823Z",
     "iopub.status.busy": "2022-04-17T18:28:51.188546Z",
     "iopub.status.idle": "2022-04-17T18:28:51.198521Z",
     "shell.execute_reply": "2022-04-17T18:28:51.196773Z",
     "shell.execute_reply.started": "2022-04-17T18:28:51.189625Z"
    }
   },
   "outputs": [],
   "source": [
    "def preprocessing(df):\n",
    "    for feature in features:\n",
    "        df[feature + '_lag1'] = df.groupby('sequence')[feature].shift(1)\n",
    "        df.fillna(0, inplace=True)\n",
    "        df[feature + '_diff1'] = df[feature] - df[feature + '_lag1']\n",
    "      "
   ]
  },
  {
   "cell_type": "code",
   "execution_count": 37,
   "metadata": {
    "execution": {
     "iopub.execute_input": "2022-04-17T18:28:51.202075Z",
     "iopub.status.busy": "2022-04-17T18:28:51.200892Z",
     "iopub.status.idle": "2022-04-17T18:28:55.484807Z",
     "shell.execute_reply": "2022-04-17T18:28:55.484053Z",
     "shell.execute_reply.started": "2022-04-17T18:28:51.201995Z"
    }
   },
   "outputs": [],
   "source": [
    "preprocessing(train)"
   ]
  },
  {
   "cell_type": "code",
   "execution_count": 38,
   "metadata": {
    "execution": {
     "iopub.execute_input": "2022-04-17T18:28:57.768036Z",
     "iopub.status.busy": "2022-04-17T18:28:57.767617Z",
     "iopub.status.idle": "2022-04-17T18:28:58.430331Z",
     "shell.execute_reply": "2022-04-17T18:28:58.429588Z",
     "shell.execute_reply.started": "2022-04-17T18:28:57.767998Z"
    }
   },
   "outputs": [],
   "source": [
    "groups = train['sequence']\n",
    "labels = labels['state']\n",
    "\n",
    "train = train.drop(['sequence', 'subject', 'step'], axis=1).values\n",
    "train = train.reshape(-1, 60, train.shape[-1])\n",
    "\n",
    "test =test.drop(['sequence', 'subject', 'step'], axis=1).values\n",
    "test = test.reshape(-1, 60, test.shape[-1])"
   ]
  },
  {
   "cell_type": "code",
   "execution_count": 39,
   "metadata": {
    "execution": {
     "iopub.execute_input": "2022-04-17T18:28:58.431864Z",
     "iopub.status.busy": "2022-04-17T18:28:58.431619Z",
     "iopub.status.idle": "2022-04-17T18:28:58.437716Z",
     "shell.execute_reply": "2022-04-17T18:28:58.437011Z",
     "shell.execute_reply.started": "2022-04-17T18:28:58.431831Z"
    }
   },
   "outputs": [
    {
     "data": {
      "text/plain": [
       "(25968, 60, 39)"
      ]
     },
     "execution_count": 39,
     "metadata": {},
     "output_type": "execute_result"
    }
   ],
   "source": [
    "train.shape"
   ]
  },
  {
   "cell_type": "markdown",
   "metadata": {},
   "source": [
    "# Model"
   ]
  },
  {
   "cell_type": "code",
   "execution_count": 40,
   "metadata": {
    "execution": {
     "iopub.execute_input": "2022-04-17T18:28:58.439885Z",
     "iopub.status.busy": "2022-04-17T18:28:58.439399Z",
     "iopub.status.idle": "2022-04-17T18:28:58.449916Z",
     "shell.execute_reply": "2022-04-17T18:28:58.44916Z",
     "shell.execute_reply.started": "2022-04-17T18:28:58.439844Z"
    }
   },
   "outputs": [],
   "source": [
    "def lstm():\n",
    "    #with tpu_strategy.scope():\n",
    "    x_input = Input(shape=(train.shape[-2:])) # (60,39)\n",
    "\n",
    "    x1 = Bidirectional(LSTM(units=512, return_sequences=True))(x_input)\n",
    "    x2 = Bidirectional(LSTM(units=256, return_sequences=True))(x1)\n",
    "    z1 = Bidirectional(GRU(units=256, return_sequences=True))(x1)\n",
    "\n",
    "    c = Concatenate(axis=2)([x2, z1])\n",
    "\n",
    "    x3 = Bidirectional(LSTM(units=128, return_sequences=True))(c)\n",
    "\n",
    "    x4 = GlobalMaxPooling1D()(x3)\n",
    "    x5 = Dense(units=128, activation='selu')(x4)\n",
    "    x_output = Dense(1, activation='sigmoid')(x5)\n",
    "\n",
    "    model = Model(inputs=x_input, outputs=x_output, name='lstm_model')\n",
    "        \n",
    "    return model"
   ]
  },
  {
   "cell_type": "code",
   "execution_count": 41,
   "metadata": {
    "execution": {
     "iopub.execute_input": "2022-04-17T18:28:58.451918Z",
     "iopub.status.busy": "2022-04-17T18:28:58.451132Z",
     "iopub.status.idle": "2022-04-17T18:29:02.700668Z",
     "shell.execute_reply": "2022-04-17T18:29:02.699949Z",
     "shell.execute_reply.started": "2022-04-17T18:28:58.451877Z"
    }
   },
   "outputs": [],
   "source": [
    "model = lstm()\n",
    "model.compile(optimizer = 'adam', loss = 'binary_crossentropy', metrics=[AUC(name = 'auc')])"
   ]
  },
  {
   "cell_type": "code",
   "execution_count": 42,
   "metadata": {
    "execution": {
     "iopub.execute_input": "2022-04-17T18:29:02.702092Z",
     "iopub.status.busy": "2022-04-17T18:29:02.701827Z",
     "iopub.status.idle": "2022-04-17T18:29:02.715431Z",
     "shell.execute_reply": "2022-04-17T18:29:02.713849Z",
     "shell.execute_reply.started": "2022-04-17T18:29:02.702059Z"
    }
   },
   "outputs": [
    {
     "name": "stdout",
     "output_type": "stream",
     "text": [
      "Model: \"lstm_model\"\n",
      "__________________________________________________________________________________________________\n",
      "Layer (type)                    Output Shape         Param #     Connected to                     \n",
      "==================================================================================================\n",
      "input_2 (InputLayer)            [(None, 60, 39)]     0                                            \n",
      "__________________________________________________________________________________________________\n",
      "bidirectional_4 (Bidirectional) (None, 60, 1024)     2260992     input_2[0][0]                    \n",
      "__________________________________________________________________________________________________\n",
      "bidirectional_5 (Bidirectional) (None, 60, 512)      2623488     bidirectional_4[0][0]            \n",
      "__________________________________________________________________________________________________\n",
      "bidirectional_6 (Bidirectional) (None, 60, 512)      1969152     bidirectional_4[0][0]            \n",
      "__________________________________________________________________________________________________\n",
      "concatenate_1 (Concatenate)     (None, 60, 1024)     0           bidirectional_5[0][0]            \n",
      "                                                                 bidirectional_6[0][0]            \n",
      "__________________________________________________________________________________________________\n",
      "bidirectional_7 (Bidirectional) (None, 60, 256)      1180672     concatenate_1[0][0]              \n",
      "__________________________________________________________________________________________________\n",
      "global_max_pooling1d_1 (GlobalM (None, 256)          0           bidirectional_7[0][0]            \n",
      "__________________________________________________________________________________________________\n",
      "dense_2 (Dense)                 (None, 128)          32896       global_max_pooling1d_1[0][0]     \n",
      "__________________________________________________________________________________________________\n",
      "dense_3 (Dense)                 (None, 1)            129         dense_2[0][0]                    \n",
      "==================================================================================================\n",
      "Total params: 8,067,329\n",
      "Trainable params: 8,067,329\n",
      "Non-trainable params: 0\n",
      "__________________________________________________________________________________________________\n"
     ]
    }
   ],
   "source": [
    "model.summary()"
   ]
  },
  {
   "cell_type": "code",
   "execution_count": 44,
   "metadata": {
    "execution": {
     "iopub.execute_input": "2022-04-17T18:29:03.785205Z",
     "iopub.status.busy": "2022-04-17T18:29:03.784932Z",
     "iopub.status.idle": "2022-04-17T18:29:03.790165Z",
     "shell.execute_reply": "2022-04-17T18:29:03.789491Z",
     "shell.execute_reply.started": "2022-04-17T18:29:03.785168Z"
    }
   },
   "outputs": [],
   "source": [
    "scores = []\n",
    "test_preds = []\n",
    "kf = GroupKFold(n_splits=5)"
   ]
  },
  {
   "cell_type": "markdown",
   "metadata": {},
   "source": [
    "## Model Training"
   ]
  },
  {
   "cell_type": "code",
   "execution_count": 45,
   "metadata": {
    "execution": {
     "iopub.execute_input": "2022-04-17T18:31:34.533732Z",
     "iopub.status.busy": "2022-04-17T18:31:34.53301Z"
    }
   },
   "outputs": [
    {
     "name": "stdout",
     "output_type": "stream",
     "text": [
      "\n",
      "\n",
      "*************** ↓ Fold 1 ↓ ***************\n",
      "Epoch 1/5\n",
      " 5/82 [>.............................] - ETA: 13:46 - loss: 0.7774 - auc: 0.5565"
     ]
    },
    {
     "ename": "KeyboardInterrupt",
     "evalue": "",
     "output_type": "error",
     "traceback": [
      "\u001b[1;31m---------------------------------------------------------------------------\u001b[0m",
      "\u001b[1;31mKeyboardInterrupt\u001b[0m                         Traceback (most recent call last)",
      "\u001b[1;32m~\\AppData\\Local\\Temp/ipykernel_17460/64519892.py\u001b[0m in \u001b[0;36m<module>\u001b[1;34m\u001b[0m\n\u001b[0;32m      9\u001b[0m \u001b[1;33m\u001b[0m\u001b[0m\n\u001b[0;32m     10\u001b[0m     \u001b[1;31m# Train the model\u001b[0m\u001b[1;33m\u001b[0m\u001b[1;33m\u001b[0m\u001b[0m\n\u001b[1;32m---> 11\u001b[1;33m     model.fit(X_train, y_train, \n\u001b[0m\u001b[0;32m     12\u001b[0m               \u001b[0mvalidation_data\u001b[0m\u001b[1;33m=\u001b[0m\u001b[1;33m(\u001b[0m\u001b[0mX_valid\u001b[0m\u001b[1;33m,\u001b[0m \u001b[0my_valid\u001b[0m\u001b[1;33m)\u001b[0m\u001b[1;33m,\u001b[0m\u001b[1;33m\u001b[0m\u001b[1;33m\u001b[0m\u001b[0m\n\u001b[0;32m     13\u001b[0m               \u001b[0mepochs\u001b[0m\u001b[1;33m=\u001b[0m\u001b[1;36m5\u001b[0m\u001b[1;33m,\u001b[0m\u001b[1;33m\u001b[0m\u001b[1;33m\u001b[0m\u001b[0m\n",
      "\u001b[1;32m~\\Anaconda3\\envs\\tf-gpu\\lib\\site-packages\\tensorflow\\python\\keras\\engine\\training.py\u001b[0m in \u001b[0;36mfit\u001b[1;34m(self, x, y, batch_size, epochs, verbose, callbacks, validation_split, validation_data, shuffle, class_weight, sample_weight, initial_epoch, steps_per_epoch, validation_steps, validation_batch_size, validation_freq, max_queue_size, workers, use_multiprocessing)\u001b[0m\n\u001b[0;32m   1191\u001b[0m                 _r=1):\n\u001b[0;32m   1192\u001b[0m               \u001b[0mcallbacks\u001b[0m\u001b[1;33m.\u001b[0m\u001b[0mon_train_batch_begin\u001b[0m\u001b[1;33m(\u001b[0m\u001b[0mstep\u001b[0m\u001b[1;33m)\u001b[0m\u001b[1;33m\u001b[0m\u001b[1;33m\u001b[0m\u001b[0m\n\u001b[1;32m-> 1193\u001b[1;33m               \u001b[0mtmp_logs\u001b[0m \u001b[1;33m=\u001b[0m \u001b[0mself\u001b[0m\u001b[1;33m.\u001b[0m\u001b[0mtrain_function\u001b[0m\u001b[1;33m(\u001b[0m\u001b[0miterator\u001b[0m\u001b[1;33m)\u001b[0m\u001b[1;33m\u001b[0m\u001b[1;33m\u001b[0m\u001b[0m\n\u001b[0m\u001b[0;32m   1194\u001b[0m               \u001b[1;32mif\u001b[0m \u001b[0mdata_handler\u001b[0m\u001b[1;33m.\u001b[0m\u001b[0mshould_sync\u001b[0m\u001b[1;33m:\u001b[0m\u001b[1;33m\u001b[0m\u001b[1;33m\u001b[0m\u001b[0m\n\u001b[0;32m   1195\u001b[0m                 \u001b[0mcontext\u001b[0m\u001b[1;33m.\u001b[0m\u001b[0masync_wait\u001b[0m\u001b[1;33m(\u001b[0m\u001b[1;33m)\u001b[0m\u001b[1;33m\u001b[0m\u001b[1;33m\u001b[0m\u001b[0m\n",
      "\u001b[1;32m~\\Anaconda3\\envs\\tf-gpu\\lib\\site-packages\\tensorflow\\python\\eager\\def_function.py\u001b[0m in \u001b[0;36m__call__\u001b[1;34m(self, *args, **kwds)\u001b[0m\n\u001b[0;32m    883\u001b[0m \u001b[1;33m\u001b[0m\u001b[0m\n\u001b[0;32m    884\u001b[0m       \u001b[1;32mwith\u001b[0m \u001b[0mOptionalXlaContext\u001b[0m\u001b[1;33m(\u001b[0m\u001b[0mself\u001b[0m\u001b[1;33m.\u001b[0m\u001b[0m_jit_compile\u001b[0m\u001b[1;33m)\u001b[0m\u001b[1;33m:\u001b[0m\u001b[1;33m\u001b[0m\u001b[1;33m\u001b[0m\u001b[0m\n\u001b[1;32m--> 885\u001b[1;33m         \u001b[0mresult\u001b[0m \u001b[1;33m=\u001b[0m \u001b[0mself\u001b[0m\u001b[1;33m.\u001b[0m\u001b[0m_call\u001b[0m\u001b[1;33m(\u001b[0m\u001b[1;33m*\u001b[0m\u001b[0margs\u001b[0m\u001b[1;33m,\u001b[0m \u001b[1;33m**\u001b[0m\u001b[0mkwds\u001b[0m\u001b[1;33m)\u001b[0m\u001b[1;33m\u001b[0m\u001b[1;33m\u001b[0m\u001b[0m\n\u001b[0m\u001b[0;32m    886\u001b[0m \u001b[1;33m\u001b[0m\u001b[0m\n\u001b[0;32m    887\u001b[0m       \u001b[0mnew_tracing_count\u001b[0m \u001b[1;33m=\u001b[0m \u001b[0mself\u001b[0m\u001b[1;33m.\u001b[0m\u001b[0mexperimental_get_tracing_count\u001b[0m\u001b[1;33m(\u001b[0m\u001b[1;33m)\u001b[0m\u001b[1;33m\u001b[0m\u001b[1;33m\u001b[0m\u001b[0m\n",
      "\u001b[1;32m~\\Anaconda3\\envs\\tf-gpu\\lib\\site-packages\\tensorflow\\python\\eager\\def_function.py\u001b[0m in \u001b[0;36m_call\u001b[1;34m(self, *args, **kwds)\u001b[0m\n\u001b[0;32m    915\u001b[0m       \u001b[1;31m# In this case we have created variables on the first call, so we run the\u001b[0m\u001b[1;33m\u001b[0m\u001b[1;33m\u001b[0m\u001b[0m\n\u001b[0;32m    916\u001b[0m       \u001b[1;31m# defunned version which is guaranteed to never create variables.\u001b[0m\u001b[1;33m\u001b[0m\u001b[1;33m\u001b[0m\u001b[0m\n\u001b[1;32m--> 917\u001b[1;33m       \u001b[1;32mreturn\u001b[0m \u001b[0mself\u001b[0m\u001b[1;33m.\u001b[0m\u001b[0m_stateless_fn\u001b[0m\u001b[1;33m(\u001b[0m\u001b[1;33m*\u001b[0m\u001b[0margs\u001b[0m\u001b[1;33m,\u001b[0m \u001b[1;33m**\u001b[0m\u001b[0mkwds\u001b[0m\u001b[1;33m)\u001b[0m  \u001b[1;31m# pylint: disable=not-callable\u001b[0m\u001b[1;33m\u001b[0m\u001b[1;33m\u001b[0m\u001b[0m\n\u001b[0m\u001b[0;32m    918\u001b[0m     \u001b[1;32melif\u001b[0m \u001b[0mself\u001b[0m\u001b[1;33m.\u001b[0m\u001b[0m_stateful_fn\u001b[0m \u001b[1;32mis\u001b[0m \u001b[1;32mnot\u001b[0m \u001b[1;32mNone\u001b[0m\u001b[1;33m:\u001b[0m\u001b[1;33m\u001b[0m\u001b[1;33m\u001b[0m\u001b[0m\n\u001b[0;32m    919\u001b[0m       \u001b[1;31m# Release the lock early so that multiple threads can perform the call\u001b[0m\u001b[1;33m\u001b[0m\u001b[1;33m\u001b[0m\u001b[0m\n",
      "\u001b[1;32m~\\Anaconda3\\envs\\tf-gpu\\lib\\site-packages\\tensorflow\\python\\eager\\function.py\u001b[0m in \u001b[0;36m__call__\u001b[1;34m(self, *args, **kwargs)\u001b[0m\n\u001b[0;32m   3037\u001b[0m       (graph_function,\n\u001b[0;32m   3038\u001b[0m        filtered_flat_args) = self._maybe_define_function(args, kwargs)\n\u001b[1;32m-> 3039\u001b[1;33m     return graph_function._call_flat(\n\u001b[0m\u001b[0;32m   3040\u001b[0m         filtered_flat_args, captured_inputs=graph_function.captured_inputs)  # pylint: disable=protected-access\n\u001b[0;32m   3041\u001b[0m \u001b[1;33m\u001b[0m\u001b[0m\n",
      "\u001b[1;32m~\\Anaconda3\\envs\\tf-gpu\\lib\\site-packages\\tensorflow\\python\\eager\\function.py\u001b[0m in \u001b[0;36m_call_flat\u001b[1;34m(self, args, captured_inputs, cancellation_manager)\u001b[0m\n\u001b[0;32m   1961\u001b[0m         and executing_eagerly):\n\u001b[0;32m   1962\u001b[0m       \u001b[1;31m# No tape is watching; skip to running the function.\u001b[0m\u001b[1;33m\u001b[0m\u001b[1;33m\u001b[0m\u001b[0m\n\u001b[1;32m-> 1963\u001b[1;33m       return self._build_call_outputs(self._inference_function.call(\n\u001b[0m\u001b[0;32m   1964\u001b[0m           ctx, args, cancellation_manager=cancellation_manager))\n\u001b[0;32m   1965\u001b[0m     forward_backward = self._select_forward_and_backward_functions(\n",
      "\u001b[1;32m~\\Anaconda3\\envs\\tf-gpu\\lib\\site-packages\\tensorflow\\python\\eager\\function.py\u001b[0m in \u001b[0;36mcall\u001b[1;34m(self, ctx, args, cancellation_manager)\u001b[0m\n\u001b[0;32m    589\u001b[0m       \u001b[1;32mwith\u001b[0m \u001b[0m_InterpolateFunctionError\u001b[0m\u001b[1;33m(\u001b[0m\u001b[0mself\u001b[0m\u001b[1;33m)\u001b[0m\u001b[1;33m:\u001b[0m\u001b[1;33m\u001b[0m\u001b[1;33m\u001b[0m\u001b[0m\n\u001b[0;32m    590\u001b[0m         \u001b[1;32mif\u001b[0m \u001b[0mcancellation_manager\u001b[0m \u001b[1;32mis\u001b[0m \u001b[1;32mNone\u001b[0m\u001b[1;33m:\u001b[0m\u001b[1;33m\u001b[0m\u001b[1;33m\u001b[0m\u001b[0m\n\u001b[1;32m--> 591\u001b[1;33m           outputs = execute.execute(\n\u001b[0m\u001b[0;32m    592\u001b[0m               \u001b[0mstr\u001b[0m\u001b[1;33m(\u001b[0m\u001b[0mself\u001b[0m\u001b[1;33m.\u001b[0m\u001b[0msignature\u001b[0m\u001b[1;33m.\u001b[0m\u001b[0mname\u001b[0m\u001b[1;33m)\u001b[0m\u001b[1;33m,\u001b[0m\u001b[1;33m\u001b[0m\u001b[1;33m\u001b[0m\u001b[0m\n\u001b[0;32m    593\u001b[0m               \u001b[0mnum_outputs\u001b[0m\u001b[1;33m=\u001b[0m\u001b[0mself\u001b[0m\u001b[1;33m.\u001b[0m\u001b[0m_num_outputs\u001b[0m\u001b[1;33m,\u001b[0m\u001b[1;33m\u001b[0m\u001b[1;33m\u001b[0m\u001b[0m\n",
      "\u001b[1;32m~\\Anaconda3\\envs\\tf-gpu\\lib\\site-packages\\tensorflow\\python\\eager\\execute.py\u001b[0m in \u001b[0;36mquick_execute\u001b[1;34m(op_name, num_outputs, inputs, attrs, ctx, name)\u001b[0m\n\u001b[0;32m     57\u001b[0m   \u001b[1;32mtry\u001b[0m\u001b[1;33m:\u001b[0m\u001b[1;33m\u001b[0m\u001b[1;33m\u001b[0m\u001b[0m\n\u001b[0;32m     58\u001b[0m     \u001b[0mctx\u001b[0m\u001b[1;33m.\u001b[0m\u001b[0mensure_initialized\u001b[0m\u001b[1;33m(\u001b[0m\u001b[1;33m)\u001b[0m\u001b[1;33m\u001b[0m\u001b[1;33m\u001b[0m\u001b[0m\n\u001b[1;32m---> 59\u001b[1;33m     tensors = pywrap_tfe.TFE_Py_Execute(ctx._handle, device_name, op_name,\n\u001b[0m\u001b[0;32m     60\u001b[0m                                         inputs, attrs, num_outputs)\n\u001b[0;32m     61\u001b[0m   \u001b[1;32mexcept\u001b[0m \u001b[0mcore\u001b[0m\u001b[1;33m.\u001b[0m\u001b[0m_NotOkStatusException\u001b[0m \u001b[1;32mas\u001b[0m \u001b[0me\u001b[0m\u001b[1;33m:\u001b[0m\u001b[1;33m\u001b[0m\u001b[1;33m\u001b[0m\u001b[0m\n",
      "\u001b[1;31mKeyboardInterrupt\u001b[0m: "
     ]
    }
   ],
   "source": [
    "for fold_idx, (train_idx, valid_idx) in enumerate(kf.split(train, labels, groups.unique())):\n",
    "    \n",
    "    print('\\n')\n",
    "    print('*'*15, f'↓ Fold {fold_idx+1} ↓', '*'*15)\n",
    "    \n",
    "    # Separate into train data and validation data\n",
    "    X_train, X_valid = train[train_idx], train[valid_idx]\n",
    "    y_train, y_valid = labels.iloc[train_idx].values, labels.iloc[valid_idx].values\n",
    "    \n",
    "    # Train the model\n",
    "    model.fit(X_train, y_train, \n",
    "              validation_data=(X_valid, y_valid), \n",
    "              epochs=5, \n",
    "              batch_size=256, \n",
    "              callbacks=[EarlyStopping(monitor='val_auc', patience=7, mode='max', \n",
    "                                       restore_best_weights=True),\n",
    "                         ReduceLROnPlateau(monitor='val_auc', factor=0.6, \n",
    "                                           patience=4, verbose=False)]\n",
    "             )\n",
    "    \n",
    "    # Save score\n",
    "    score = roc_auc_score(y_valid, model.predict(X_valid, batch_size=512).squeeze())\n",
    "    scores.append(score)\n",
    "    \n",
    "    # Predict\n",
    "    test_preds.append(model.predict(test, batch_size=512).squeeze())\n",
    "    \n",
    "    print(f'Fold {fold_idx+1} | Score: {score}')\n",
    "    print('*'*15, f'↑ Fold {fold_idx+1} ↑', '*'*15)\n",
    "    \n",
    "print(f'Mean accuracy on {kf.n_splits} folds {np.mean(scores)}')"
   ]
  },
  {
   "cell_type": "code",
   "execution_count": null,
   "metadata": {},
   "outputs": [],
   "source": []
  }
 ],
 "metadata": {
  "kernelspec": {
   "display_name": "Python 3 (ipykernel)",
   "language": "python",
   "name": "python3"
  },
  "language_info": {
   "codemirror_mode": {
    "name": "ipython",
    "version": 3
   },
   "file_extension": ".py",
   "mimetype": "text/x-python",
   "name": "python",
   "nbconvert_exporter": "python",
   "pygments_lexer": "ipython3",
   "version": "3.9.12"
  }
 },
 "nbformat": 4,
 "nbformat_minor": 4
}
